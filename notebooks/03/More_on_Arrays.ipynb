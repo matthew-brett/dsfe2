{
 "cells": [
  {
   "cell_type": "markdown",
   "metadata": {},
   "source": [
    "# More on Arrays\n",
    "\n",
    "It's often necessary to compute something that involves data from more than\n",
    "one array. If two arrays are of the same size, Python makes it easy to do\n",
    "calculations involving both arrays.\n",
    "\n",
    "For our first example, we return once more to the temperature data.  This\n",
    "time, we create arrays of average daily\n",
    "[high](http://berkeleyearth.lbl.gov/auto/Regional/TMAX/Text/global-land-TMAX-Trend.txt)\n",
    "and\n",
    "[low](http://berkeleyearth.lbl.gov/auto/Regional/TMIN/Text/global-land-TMIN-Trend.txt)\n",
    "temperatures for the decades surrounding 1850, 1900, 1950, and 2000.\n",
    "\n",
    "First we get Numpy, renamed as `np`:"
   ]
  },
  {
   "cell_type": "code",
   "execution_count": 1,
   "metadata": {},
   "outputs": [],
   "source": [
    "import numpy as np"
   ]
  },
  {
   "cell_type": "markdown",
   "metadata": {},
   "source": [
    "Next we create the array:"
   ]
  },
  {
   "cell_type": "code",
   "execution_count": 2,
   "metadata": {},
   "outputs": [
    {
     "data": {
      "text/plain": [
       "array([ 13.6  ,  14.387,  14.585,  15.164])"
      ]
     },
     "execution_count": 2,
     "metadata": {},
     "output_type": "execute_result"
    }
   ],
   "source": [
    "baseline_high = 14.48\n",
    "highs = np.array([baseline_high - 0.880,\n",
    "                  baseline_high - 0.093,\n",
    "                  baseline_high + 0.105,\n",
    "                  baseline_high + 0.684])\n",
    "highs"
   ]
  },
  {
   "cell_type": "code",
   "execution_count": 3,
   "metadata": {},
   "outputs": [
    {
     "data": {
      "text/plain": [
       "array([ 2.128,  2.371,  2.874,  3.728])"
      ]
     },
     "execution_count": 3,
     "metadata": {},
     "output_type": "execute_result"
    }
   ],
   "source": [
    "baseline_low = 3.00\n",
    "lows = np.array([baseline_low - 0.872, baseline_low - 0.629,\n",
    "                 baseline_low - 0.126, baseline_low + 0.728])\n",
    "lows"
   ]
  },
  {
   "cell_type": "markdown",
   "metadata": {},
   "source": [
    "Suppose we'd like to compute the average daily *range* of temperatures for\n",
    "each decade.  That is, we want to subtract the average daily high in the 1850s\n",
    "from the average daily low in the 1850s, and the same for each other decade.\n",
    "\n",
    "We could write this laboriously using `.item`:"
   ]
  },
  {
   "cell_type": "code",
   "execution_count": 4,
   "metadata": {},
   "outputs": [
    {
     "data": {
      "text/plain": [
       "array([ 11.472,  12.016,  11.711,  11.436])"
      ]
     },
     "execution_count": 4,
     "metadata": {},
     "output_type": "execute_result"
    }
   ],
   "source": [
    "np.array([\n",
    "    highs.item(0) - lows.item(0),\n",
    "    highs.item(1) - lows.item(1),\n",
    "    highs.item(2) - lows.item(2),\n",
    "    highs.item(3) - lows.item(3)\n",
    "])"
   ]
  },
  {
   "cell_type": "markdown",
   "metadata": {},
   "source": [
    "As when we converted an array of temperatures from Celsius to Fahrenheit,\n",
    "Python provides a much cleaner way to write this:"
   ]
  },
  {
   "cell_type": "code",
   "execution_count": 5,
   "metadata": {},
   "outputs": [
    {
     "data": {
      "text/plain": [
       "array([ 11.472,  12.016,  11.711,  11.436])"
      ]
     },
     "execution_count": 5,
     "metadata": {},
     "output_type": "execute_result"
    }
   ],
   "source": [
    "highs - lows"
   ]
  },
  {
   "cell_type": "markdown",
   "metadata": {},
   "source": [
    "<img src=\"{{ site.baseurl }}/images/array_subtraction.png\">"
   ]
  },
  {
   "cell_type": "markdown",
   "metadata": {},
   "source": [
    "What we've seen in these examples are special cases of a general feature of arrays."
   ]
  },
  {
   "cell_type": "markdown",
   "metadata": {},
   "source": [
    "### Elementwise arithmetic on pairs of numerical arrays\n",
    "\n",
    "If an arithmetic operator acts on two arrays of the same size, then the\n",
    "operation is performed on each corresponding pair of elements in the two\n",
    "arrays. The final result is an array. \n",
    "\n",
    "For example, if `array1` and `array2` have the same number of elements, then\n",
    "the value of `array1 * array2` is an array. Its first element is the first\n",
    "element of `array` times the first element of `array2`, its second element is\n",
    "the second element of `array1` times the second element of `array2`, and so\n",
    "on."
   ]
  }
 ],
 "metadata": {
  "anaconda-cloud": {},
  "jupytext": {
   "text_representation": {
    "extension": ".Rmd",
    "format_name": "rmarkdown",
    "format_version": "1.0",
    "jupytext_version": "0.8.1"
   }
  },
  "kernelspec": {
   "display_name": "Python 3",
   "language": "python",
   "name": "python3"
  },
  "language_info": {
   "codemirror_mode": {
    "name": "ipython",
    "version": 3
   },
   "file_extension": ".py",
   "mimetype": "text/x-python",
   "name": "python",
   "nbconvert_exporter": "python",
   "pygments_lexer": "ipython3",
   "version": "3.6.5"
  }
 },
 "nbformat": 4,
 "nbformat_minor": 2
}
