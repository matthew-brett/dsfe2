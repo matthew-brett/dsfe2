{
 "cells": [
  {
   "cell_type": "code",
   "execution_count": 1,
   "metadata": {},
   "outputs": [],
   "source": [
    "# HIDDEN\n",
    "# The standard set of libraries we need\n",
    "import numpy as np"
   ]
  },
  {
   "cell_type": "markdown",
   "metadata": {},
   "source": [
    "# A simpler problem\n",
    "\n",
    "Imagine a family with four children.\n",
    "\n",
    "What is the probability that the family will have exactly three girls?\n",
    "\n",
    "There are various ways to answer this question.  One way, is to use\n",
    "*simulation*.\n",
    "\n",
    "Simulation makes a *model* of the problem.  We use the model to generate\n",
    "*simulated* data.  If the model is a good one, the simulated data should look\n",
    "like the real data.\n",
    "\n",
    "First we need to simulate a family of four children.\n",
    "\n",
    "Then we need to count the number of girls.\n",
    "\n",
    "We do this many many times, and see how often we get a count of 3.\n",
    "\n",
    "For example, we can run the following cell 4 times, to get 4 random numbers.\n",
    "We can chose to consider any random number less than or equal to 0.5 to be a\n",
    "girl.  If we count how many random numbers (of 4) are less then or equal to\n",
    "0.5, we"
   ]
  },
  {
   "cell_type": "code",
   "execution_count": 2,
   "metadata": {},
   "outputs": [
    {
     "data": {
      "text/plain": [
       "0.5289147394557308"
      ]
     },
     "execution_count": 2,
     "metadata": {},
     "output_type": "execute_result"
    }
   ],
   "source": [
    "np.random.uniform()"
   ]
  },
  {
   "cell_type": "markdown",
   "metadata": {},
   "source": [
    "As we will soon see, we are using a *call expression* here.  `np.random.uniform()` *calls* the function, and returns a random number, between 0 and 1."
   ]
  },
  {
   "cell_type": "markdown",
   "metadata": {},
   "source": [
    "It's inconvenient to have to run this cell many times.   We really need some\n",
    "machinery to make the computer do that for us.  We need *expressions*,\n",
    "*names*, *call expressions*, *comparisons* and *arrays*.  We will deal with\n",
    "those next."
   ]
  }
 ],
 "metadata": {
  "jupytext": {
   "formats": "Rmd:rmarkdown,ipynb",
   "text_representation": {
    "extension": ".Rmd",
    "format_name": "rmarkdown",
    "format_version": "1.0",
    "jupytext_version": "0.8.2"
   }
  },
  "kernelspec": {
   "display_name": "Python 3",
   "language": "python",
   "name": "python3"
  },
  "language_info": {
   "codemirror_mode": {
    "name": "ipython",
    "version": 3
   },
   "file_extension": ".py",
   "mimetype": "text/x-python",
   "name": "python",
   "nbconvert_exporter": "python",
   "pygments_lexer": "ipython3",
   "version": "3.6.5"
  }
 },
 "nbformat": 4,
 "nbformat_minor": 2
}
