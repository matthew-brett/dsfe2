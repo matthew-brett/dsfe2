{
 "cells": [
  {
   "cell_type": "markdown",
   "metadata": {},
   "source": [
    "*Call expressions* invoke functions, which are named operations. The name of\n",
    "the function appears first, followed by expressions in parentheses."
   ]
  },
  {
   "cell_type": "code",
   "execution_count": 1,
   "metadata": {},
   "outputs": [
    {
     "data": {
      "text/plain": [
       "12"
      ]
     },
     "execution_count": 1,
     "metadata": {},
     "output_type": "execute_result"
    }
   ],
   "source": [
    "abs(-12)"
   ]
  },
  {
   "cell_type": "code",
   "execution_count": 2,
   "metadata": {},
   "outputs": [
    {
     "data": {
      "text/plain": [
       "4"
      ]
     },
     "execution_count": 2,
     "metadata": {},
     "output_type": "execute_result"
    }
   ],
   "source": [
    "round(5 - 1.3)"
   ]
  },
  {
   "cell_type": "code",
   "execution_count": 3,
   "metadata": {},
   "outputs": [
    {
     "data": {
      "text/plain": [
       "5"
      ]
     },
     "execution_count": 3,
     "metadata": {},
     "output_type": "execute_result"
    }
   ],
   "source": [
    "max(2, 2 + 3, 4)"
   ]
  },
  {
   "cell_type": "markdown",
   "metadata": {},
   "source": [
    "In this last example, the `max` function is *called* on three *arguments*: 2,\n",
    "5, and 4. The value of each expression within parentheses is passed to the\n",
    "function, and the function *returns* the final value of the full call\n",
    "expression. The `max` function can take any number of arguments and returns\n",
    "the maximum.\n",
    "\n",
    "A few functions are available by default, such as `abs` and `round`, but most\n",
    "functions that are built into the Python language are stored in a collection\n",
    "of functions called a *module*. An *import statement* is used to provide\n",
    "access to a module, such as `math`."
   ]
  },
  {
   "cell_type": "code",
   "execution_count": 4,
   "metadata": {},
   "outputs": [
    {
     "data": {
      "text/plain": [
       "2.23606797749979"
      ]
     },
     "execution_count": 4,
     "metadata": {},
     "output_type": "execute_result"
    }
   ],
   "source": [
    "import math\n",
    "math.sqrt(5)"
   ]
  },
  {
   "cell_type": "markdown",
   "metadata": {},
   "source": [
    "Operators and call expressions can be used together in an expression. The\n",
    "*percent difference* between two values is used to compare values for which\n",
    "neither one is obviously `initial` or `changed`. For example, in 2014 Florida\n",
    "farms produced 2.72 billion eggs while Iowa farms produced 16.25 billion eggs\n",
    "\\footnote{http://quickstats.nass.usda.gov/}. The percent difference is 100\n",
    "times the absolute value of the difference between the values, divided by\n",
    "their average. In this case, the difference is larger than the average, and so\n",
    "the percent difference is greater than 100."
   ]
  },
  {
   "cell_type": "code",
   "execution_count": 5,
   "metadata": {},
   "outputs": [
    {
     "data": {
      "text/plain": [
       "142.6462836056932"
      ]
     },
     "execution_count": 5,
     "metadata": {},
     "output_type": "execute_result"
    }
   ],
   "source": [
    "florida = 2.72\n",
    "iowa = 16.25\n",
    "100*abs(florida-iowa)/((florida+iowa)/2)"
   ]
  },
  {
   "cell_type": "markdown",
   "metadata": {},
   "source": [
    "Learning how different functions behave is an important part of learning a\n",
    "programming language. A Jupyter notebook can assist in remembering the names\n",
    "and effects of different functions. When editing a code cell, press the *tab*\n",
    "key after typing the beginning of a name to bring up a list of ways to\n",
    "complete that name. For example, press *tab* after `math.` to see all of the\n",
    "functions available in the `math` module. Typing will narrow down the list of\n",
    "options. To learn more about a function, place a `?` after its name. For\n",
    "example, typing `math.sin?` will bring up a description of the `sin`\n",
    "function in the `math` module.  Try it now.  You should get something like\n",
    "this:\n",
    "\n",
    "```\n",
    "sqrt(x)\n",
    "\n",
    "Return the square root of x.\n",
    "```\n",
    "\n",
    "The list of [Python's built-in\n",
    "functions](https://docs.python.org/3/library/functions.html) is quite long and\n",
    "includes many functions that are never needed in data science applications.\n",
    "The list of [mathematical functions in the `math`\n",
    "module](https://docs.python.org/3/library/math.html) is similarly long. This\n",
    "text will introduce the most important functions in context, rather than\n",
    "expecting the reader to memorize or understand these lists."
   ]
  },
  {
   "cell_type": "markdown",
   "metadata": {},
   "source": [
    "### Example ###\n",
    "\n",
    "In 1869, a French civil engineer named Charles Joseph Minard created what is\n",
    "still considered one of the greatest graphs of all time. It shows the\n",
    "decimation of Napoleon's army during its retreat from Moscow. In 1812,\n",
    "Napoleon had set out to conquer Russia, with over 350,000 men in his army.\n",
    "They did reach Moscow but were plagued by losses along the way. The Russian\n",
    "army kept retreating farther and farther into Russia, deliberately burning\n",
    "fields and destroying villages as it retreated. This left the French army\n",
    "without food or shelter as the brutal Russian winter began to set in. The\n",
    "French army turned back without a decisive victory in Moscow. The weather got\n",
    "colder and more men died. Fewer than 10,000 returned."
   ]
  },
  {
   "cell_type": "markdown",
   "metadata": {},
   "source": [
    "![Minard's map]({{ site.baseurl }}/images/minard.png)"
   ]
  },
  {
   "cell_type": "markdown",
   "metadata": {},
   "source": [
    "The graph is drawn over a map of eastern Europe. It starts at the\n",
    "Polish-Russian border at the left end. The light brown band represents\n",
    "Napoleon's army marching towards Moscow, and the black band represents the\n",
    "army returning. At each point of the graph, the width of the band is\n",
    "proportional to the number of soldiers in the army. At the bottom of the\n",
    "graph, Minard includes the temperatures on the return journey.\n",
    "\n",
    "Notice how narrow the black band becomes as the army heads back. The crossing\n",
    "of the Berezina river was particularly devastating; can you spot it on the\n",
    "graph?\n",
    "\n",
    "The graph is remarkable for its simplicity and power. In a single graph,\n",
    "Minard shows six variables:\n",
    "\n",
    "- the number of soldiers\n",
    "- the direction of the march\n",
    "- the latitude and longitude of location\n",
    "- the temperature on the return journey\n",
    "- the location on specific dates in November and December\n",
    "\n",
    "Tufte says that Minard's graph is \"probably the best statistical graphic ever\n",
    "drawn.\""
   ]
  },
  {
   "cell_type": "markdown",
   "metadata": {},
   "source": [
    "Here is a subset of Minard's data, adapted from *The Grammar of Graphics* by\n",
    "Leland Wilkinson.\n",
    "\n",
    "![Minard subset]({{ site.baseurl }}/images/minard_table.png)"
   ]
  },
  {
   "cell_type": "markdown",
   "metadata": {},
   "source": [
    "Each row of the column represents the state of the army in a particular\n",
    "location. The columns show the longitude and latitude in degrees, the name of\n",
    "the location, whether the army was advancing or in retreat, and an estimate of\n",
    "the number of men.\n",
    "\n",
    "In this table the biggest change in the number of men between two consecutive\n",
    "locations is when the retreat begins at Moscow, as is the biggest percentage\n",
    "change."
   ]
  },
  {
   "cell_type": "code",
   "execution_count": 6,
   "metadata": {},
   "outputs": [
    {
     "data": {
      "text/plain": [
       "-45000"
      ]
     },
     "execution_count": 6,
     "metadata": {},
     "output_type": "execute_result"
    }
   ],
   "source": [
    "moscou = 100000\n",
    "wixma = 55000\n",
    "wixma - moscou"
   ]
  },
  {
   "cell_type": "code",
   "execution_count": 7,
   "metadata": {},
   "outputs": [
    {
     "data": {
      "text/plain": [
       "-0.45"
      ]
     },
     "execution_count": 7,
     "metadata": {},
     "output_type": "execute_result"
    }
   ],
   "source": [
    "(wixma - moscou)/moscou"
   ]
  },
  {
   "cell_type": "markdown",
   "metadata": {},
   "source": [
    "That's a 45% drop in the number of men in the fighting at Moscow. In other\n",
    "words, almost half of Napoleon's men who made it into Moscow didn't get very\n",
    "much farther.\n",
    "\n",
    "As you can see in the graph, Moiodexno is pretty close to Kowno where the army\n",
    "started out. Fewer than 10% of the men who marched into Smolensk during the\n",
    "advance made it as far as Moiodexno on the way back."
   ]
  },
  {
   "cell_type": "code",
   "execution_count": 8,
   "metadata": {},
   "outputs": [
    {
     "data": {
      "text/plain": [
       "-0.9172413793103448"
      ]
     },
     "execution_count": 8,
     "metadata": {},
     "output_type": "execute_result"
    }
   ],
   "source": [
    "smolensk_A = 145000\n",
    "moiodexno = 12000\n",
    "(moiodexno - smolensk_A)/smolensk_A"
   ]
  },
  {
   "cell_type": "markdown",
   "metadata": {},
   "source": [
    "Yes, you could do these calculations by just using the numbers without names.\n",
    "But the names make it much easier to read the code and interpret the results."
   ]
  },
  {
   "cell_type": "markdown",
   "metadata": {},
   "source": [
    "It is worth noting that bigger absolute changes don't always correspond to\n",
    "bigger percentage changes.\n",
    "\n",
    "The absolute loss from Smolensk to Dorogobouge during the advance was 5,000\n",
    "men, whereas the corresponding loss from Smolensk to Orscha during the retreat\n",
    "was smaller, at 4,000 men.\n",
    "\n",
    "However, the percent change was much larger between Smolensk and Orscha\n",
    "because the total number of men in Smolensk was much smaller during the\n",
    "retreat."
   ]
  },
  {
   "cell_type": "code",
   "execution_count": 9,
   "metadata": {},
   "outputs": [],
   "source": [
    "dorogobouge = 140000\n",
    "smolensk_R = 24000\n",
    "orscha = 20000"
   ]
  },
  {
   "cell_type": "code",
   "execution_count": 10,
   "metadata": {},
   "outputs": [
    {
     "data": {
      "text/plain": [
       "5000"
      ]
     },
     "execution_count": 10,
     "metadata": {},
     "output_type": "execute_result"
    }
   ],
   "source": [
    "abs(dorogobouge - smolensk_A)"
   ]
  },
  {
   "cell_type": "code",
   "execution_count": 11,
   "metadata": {},
   "outputs": [
    {
     "data": {
      "text/plain": [
       "0.034482758620689655"
      ]
     },
     "execution_count": 11,
     "metadata": {},
     "output_type": "execute_result"
    }
   ],
   "source": [
    "abs(dorogobouge - smolensk_A)/smolensk_A"
   ]
  },
  {
   "cell_type": "code",
   "execution_count": 12,
   "metadata": {},
   "outputs": [
    {
     "data": {
      "text/plain": [
       "4000"
      ]
     },
     "execution_count": 12,
     "metadata": {},
     "output_type": "execute_result"
    }
   ],
   "source": [
    "abs(orscha - smolensk_R)"
   ]
  },
  {
   "cell_type": "code",
   "execution_count": 13,
   "metadata": {},
   "outputs": [
    {
     "data": {
      "text/plain": [
       "0.16666666666666666"
      ]
     },
     "execution_count": 13,
     "metadata": {},
     "output_type": "execute_result"
    }
   ],
   "source": [
    "abs(orscha - smolensk_R)/smolensk_R"
   ]
  }
 ],
 "metadata": {
  "anaconda-cloud": {},
  "jupytext": {
   "text_representation": {
    "extension": ".Rmd",
    "format_name": "rmarkdown",
    "format_version": "1.0",
    "jupytext_version": "0.8.1"
   }
  },
  "kernelspec": {
   "display_name": "Python 3",
   "language": "python",
   "name": "python3"
  },
  "language_info": {
   "codemirror_mode": {
    "name": "ipython",
    "version": 3
   },
   "file_extension": ".py",
   "mimetype": "text/x-python",
   "name": "python",
   "nbconvert_exporter": "python",
   "pygments_lexer": "ipython3",
   "version": "3.6.5"
  }
 },
 "nbformat": 4,
 "nbformat_minor": 2
}
