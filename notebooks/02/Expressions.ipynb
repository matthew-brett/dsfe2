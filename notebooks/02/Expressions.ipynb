{
 "cells": [
  {
   "cell_type": "markdown",
   "metadata": {},
   "source": [
    "<div class=\"note\">\n",
    "    <p>\n",
    "    This page is largely derived from <code>Expressions</code> of the UC\n",
    "    Berkeley course - see the license file on the main website.\n",
    "    </p>\n",
    "</div>\n",
    "\n",
    "Programming languages are much simpler than human languages. Nonetheless,\n",
    "there are some rules of grammar to learn in any language, and that is where we\n",
    "will begin. In this text, we will use the [Python](https://www.python.org/)\n",
    "programming language. Learning the grammar rules is essential, and the same\n",
    "rules used in the most basic programs are also central to more sophisticated\n",
    "programs."
   ]
  },
  {
   "cell_type": "markdown",
   "metadata": {},
   "source": [
    "Programs are made up of *expressions*, which describe to the computer how to\n",
    "combine pieces of data. For example, a multiplication expression consists of a\n",
    "`*` symbol between two numerical expressions. Expressions, such as `3 * 4`,\n",
    "are *evaluated* by the computer. The value (the result of *evaluation*) of the\n",
    "last expression in each cell, `12` in this case, is displayed below the cell."
   ]
  },
  {
   "cell_type": "code",
   "execution_count": 1,
   "metadata": {},
   "outputs": [
    {
     "data": {
      "text/plain": [
       "12"
      ]
     },
     "execution_count": 1,
     "metadata": {},
     "output_type": "execute_result"
    }
   ],
   "source": [
    "3 * 4"
   ]
  },
  {
   "cell_type": "markdown",
   "metadata": {},
   "source": [
    "The grammar rules of a programming language are rigid. In Python, the `*`\n",
    "symbol cannot appear twice in a row. The computer will not try to interpret an\n",
    "expression that differs from its prescribed expression structures. Instead, it\n",
    "will show a `SyntaxError` error. The *Syntax* of a language is its set of\n",
    "grammar rules, and a `SyntaxError` indicates that an expression structure\n",
    "doesn't match any of the rules of the language.\n",
    "\n",
    "Try executing the next line after removing the `#` character at the beginning\n",
    "of the line"
   ]
  },
  {
   "cell_type": "code",
   "execution_count": 2,
   "metadata": {},
   "outputs": [],
   "source": [
    "# 3 * * 4"
   ]
  },
  {
   "cell_type": "markdown",
   "metadata": {},
   "source": [
    "Small changes to an expression can change its meaning entirely. Below, the\n",
    "space between the `*`'s has been removed. Because `**` appears between two\n",
    "numerical expressions, the expression is a well-formed *exponentiation*\n",
    "expression (the first number raised to the power of the second: 3 times 3\n",
    "times 3 times 3). The symbols `*` and `**` are called *operators*, and the\n",
    "values they combine are called *operands*."
   ]
  },
  {
   "cell_type": "code",
   "execution_count": 3,
   "metadata": {},
   "outputs": [
    {
     "data": {
      "text/plain": [
       "81"
      ]
     },
     "execution_count": 3,
     "metadata": {},
     "output_type": "execute_result"
    }
   ],
   "source": [
    "3 ** 4"
   ]
  },
  {
   "cell_type": "markdown",
   "metadata": {},
   "source": [
    "**Common Operators.** Data science often involves combining numerical values,\n",
    "and the set of operators in a programming language are designed to so that\n",
    "expressions can be used to express any sort of arithmetic. In Python, the\n",
    "following operators are essential.\n",
    "\n",
    "| Expression Type | Operator | Example    | Value     |\n",
    "|-----------------|----------|------------|-----------|\n",
    "| Addition        | `+`      | `2 + 3`    | `5`       |\n",
    "| Subtraction     | `-`      | `2 - 3`    | `-1`      |\n",
    "| Multiplication  | `*`      | `2 * 3`    | `6`       |\n",
    "| Division        | `/`      | `7 / 3`    | `2.66667` |\n",
    "| Remainder       | `%`      | `7 % 3`    | `1`       |\n",
    "| Exponentiation  | `**`     | `2 ** 0.5` | `1.41421` |"
   ]
  },
  {
   "cell_type": "markdown",
   "metadata": {},
   "source": [
    "Python expressions obey the same familiar rules of *precedence* as in algebra:\n",
    "multiplication and division occur before addition and subtraction. Parentheses\n",
    "can be used to group together smaller expressions within a larger expression.\n",
    "\n",
    "Multiplication has precedence (we do `2 * 3` before adding to 1)."
   ]
  },
  {
   "cell_type": "code",
   "execution_count": 4,
   "metadata": {},
   "outputs": [
    {
     "data": {
      "text/plain": [
       "7"
      ]
     },
     "execution_count": 4,
     "metadata": {},
     "output_type": "execute_result"
    }
   ],
   "source": [
    "1 + 2 * 3"
   ]
  },
  {
   "cell_type": "markdown",
   "metadata": {},
   "source": [
    "We can use parentheses to group expressions that should be evaluated first.\n",
    "Here we force `1 + 2` *before* the multiplication by 3."
   ]
  },
  {
   "cell_type": "code",
   "execution_count": 5,
   "metadata": {},
   "outputs": [
    {
     "data": {
      "text/plain": [
       "9"
      ]
     },
     "execution_count": 5,
     "metadata": {},
     "output_type": "execute_result"
    }
   ],
   "source": [
    "(1 + 2) * 3"
   ]
  },
  {
   "cell_type": "markdown",
   "metadata": {},
   "source": [
    "### Example ###\n",
    "\n",
    "Here, from the Washington Post in the early 1980s, is a graph that attempts to\n",
    "compare the earnings of doctors with the earnings of other professionals over\n",
    "a few decades. Do we really need to see two heads (one with a stethoscope) on\n",
    "each bar? [Edward Tufte](https://en.wikipedia.org/wiki/Edward_Tufte),\n",
    "Professor at Yale and one of the world's experts on visualizing quantitative\n",
    "information, coined the term \"chartjunk\" for such unnecessary embellishments.\n",
    "This graph is also an example of the \"low data-to-ink ratio\" that Tufte\n",
    "deplores.\n",
    "\n",
    "![Washington Post graph]({{ site.baseurl }}/images/bad_post_graph.png)"
   ]
  },
  {
   "cell_type": "markdown",
   "metadata": {},
   "source": [
    "Most importantly, the horizontal axis of the graph is is not drawn to scale.\n",
    "This has a significant effect on the shape of the bar graphs. When drawn to\n",
    "scale and shorn of decoration, the graphs reveal trends that are quite\n",
    "different from the apparently linear growth in the original. The elegant graph\n",
    "below is due to Ross Ihaka, one of the originators of the statistical system\n",
    "R.\n",
    "\n",
    "![Ross Ihaka's version of Post graph]({{ site.baseurl }}/images/ihaka_fixed_post_graph.png)\n",
    "\n",
    "In the period 1939 to 1963, the doctors' incomes went up from \\$3,262 to\n",
    "\\$25,050. So during that period the average increase in income per year was\n",
    "about \\$900."
   ]
  },
  {
   "cell_type": "code",
   "execution_count": 6,
   "metadata": {},
   "outputs": [
    {
     "data": {
      "text/plain": [
       "907.8333333333334"
      ]
     },
     "execution_count": 6,
     "metadata": {},
     "output_type": "execute_result"
    }
   ],
   "source": [
    "(25050 - 3262)/(1963 - 1939)"
   ]
  },
  {
   "cell_type": "markdown",
   "metadata": {},
   "source": [
    "In Ross Ihaka's graph you can see that in this period, the doctors' incomes\n",
    "rise roughly linearly at a fairly steady rate. That rate is about \\$900, as we\n",
    "have just calculated.\n",
    "\n",
    "But in the period 1963 to 1976, the rate is more than three times as high:"
   ]
  },
  {
   "cell_type": "code",
   "execution_count": 7,
   "metadata": {},
   "outputs": [
    {
     "data": {
      "text/plain": [
       "2903.769230769231"
      ]
     },
     "execution_count": 7,
     "metadata": {},
     "output_type": "execute_result"
    }
   ],
   "source": [
    "(62799 - 25050)/(1976 - 1963)"
   ]
  },
  {
   "cell_type": "markdown",
   "metadata": {},
   "source": [
    "That is why the graph rises much more steeply after 1963."
   ]
  },
  {
   "cell_type": "markdown",
   "metadata": {},
   "source": [
    "This chapter introduces many types of expressions. Learning to program\n",
    "involves trying out everything you learn in combination, investigating the\n",
    "behavior of the computer. What happens if you divide by zero? What happens if\n",
    "you divide twice in a row? You don't always need to ask an expert (or the\n",
    "Internet); many of these details can be discovered by trying them out\n",
    "yourself."
   ]
  }
 ],
 "metadata": {
  "anaconda-cloud": {},
  "jupytext": {
   "text_representation": {
    "extension": ".Rmd",
    "format_name": "rmarkdown",
    "format_version": "1.0",
    "jupytext_version": "0.8.1"
   }
  },
  "kernelspec": {
   "display_name": "Python 3",
   "language": "python",
   "name": "python3"
  },
  "language_info": {
   "codemirror_mode": {
    "name": "ipython",
    "version": 3
   },
   "file_extension": ".py",
   "mimetype": "text/x-python",
   "name": "python",
   "nbconvert_exporter": "python",
   "pygments_lexer": "ipython3",
   "version": "3.6.5"
  }
 },
 "nbformat": 4,
 "nbformat_minor": 2
}
