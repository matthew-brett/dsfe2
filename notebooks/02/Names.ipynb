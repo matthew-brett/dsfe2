{
 "cells": [
  {
   "cell_type": "markdown",
   "metadata": {},
   "source": [
    "<div class=\"note\">\n",
    "    <p>\n",
    "    This page is largely derived from <code>Names</code> of the UC\n",
    "    Berkeley course - see the license file on the main website.\n",
    "    </p>\n",
    "</div>\n",
    "\n",
    "Names are given to values in Python using an *assignment* statement. In an\n",
    "assignment, a name is followed by `=`, which is followed by any expression.\n",
    "The value of the expression to the right of `=` is *assigned* to the name.\n",
    "Once a name has a value assigned to it, the value will be substituted for that\n",
    "name in future expressions."
   ]
  },
  {
   "cell_type": "code",
   "execution_count": 1,
   "metadata": {},
   "outputs": [
    {
     "data": {
      "text/plain": [
       "30"
      ]
     },
     "execution_count": 1,
     "metadata": {},
     "output_type": "execute_result"
    }
   ],
   "source": [
    "a = 10\n",
    "b = 20\n",
    "a + b"
   ]
  },
  {
   "cell_type": "markdown",
   "metadata": {},
   "source": [
    "A previously assigned name can be used in the expression to the right of `=`."
   ]
  },
  {
   "cell_type": "code",
   "execution_count": 2,
   "metadata": {},
   "outputs": [
    {
     "data": {
      "text/plain": [
       "0.5"
      ]
     },
     "execution_count": 2,
     "metadata": {},
     "output_type": "execute_result"
    }
   ],
   "source": [
    "quarter = 1/4\n",
    "half = 2 * quarter\n",
    "half"
   ]
  },
  {
   "cell_type": "markdown",
   "metadata": {},
   "source": [
    "However, only the current value of an expression is assigned to a name. If\n",
    "that value changes later, names that were defined in terms of that value will\n",
    "not change automatically."
   ]
  },
  {
   "cell_type": "code",
   "execution_count": 3,
   "metadata": {},
   "outputs": [
    {
     "data": {
      "text/plain": [
       "0.5"
      ]
     },
     "execution_count": 3,
     "metadata": {},
     "output_type": "execute_result"
    }
   ],
   "source": [
    "quarter = 4\n",
    "half"
   ]
  },
  {
   "cell_type": "markdown",
   "metadata": {},
   "source": [
    "Names must start with a letter, but can contain both letters and numbers. A\n",
    "name cannot contain a space; instead, it is common to use an underscore\n",
    "character `_` to replace each space. Names are only as useful as you make\n",
    "them; it's up to the programmer to choose names that are easy to interpret.\n",
    "Typically, more meaningful names can be invented than `a` and `b`. For\n",
    "example, let's say you were calculating the 20% Value Added Tax for a\n",
    "restaurant bill, as well as 15% tip, on top of that.  The following names\n",
    "clarify the meaning of the various quantities involved."
   ]
  },
  {
   "cell_type": "code",
   "execution_count": 4,
   "metadata": {},
   "outputs": [
    {
     "data": {
      "text/plain": [
       "30.0"
      ]
     },
     "execution_count": 4,
     "metadata": {},
     "output_type": "execute_result"
    }
   ],
   "source": [
    "meal_price = 25\n",
    "vat_rate = 0.2\n",
    "vat = meal_price * vat_rate\n",
    "meal_price_with_vat = meal_price + vat\n",
    "meal_price_with_vat"
   ]
  },
  {
   "cell_type": "code",
   "execution_count": 5,
   "metadata": {},
   "outputs": [
    {
     "data": {
      "text/plain": [
       "34.5"
      ]
     },
     "execution_count": 5,
     "metadata": {},
     "output_type": "execute_result"
    }
   ],
   "source": [
    "tip_rate = 0.15\n",
    "tip = meal_price_with_vat * tip_rate\n",
    "meal_price_total = meal_price_with_vat + tip\n",
    "meal_price_total"
   ]
  }
 ],
 "metadata": {
  "anaconda-cloud": {},
  "jupytext": {
   "text_representation": {
    "extension": ".Rmd",
    "format_name": "rmarkdown",
    "format_version": "1.0",
    "jupytext_version": "0.8.1"
   }
  },
  "kernelspec": {
   "display_name": "Python 3",
   "language": "python",
   "name": "python3"
  },
  "language_info": {
   "codemirror_mode": {
    "name": "ipython",
    "version": 3
   },
   "file_extension": ".py",
   "mimetype": "text/x-python",
   "name": "python",
   "nbconvert_exporter": "python",
   "pygments_lexer": "ipython3",
   "version": "3.6.5"
  }
 },
 "nbformat": 4,
 "nbformat_minor": 2
}
